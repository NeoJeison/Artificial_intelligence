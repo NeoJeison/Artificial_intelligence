{
 "cells": [
  {
   "cell_type": "markdown",
   "metadata": {},
   "source": [
    "# MNIST (dígitos) deep learning, Tensorflow\n",
    "\n",
    "**Integrantes:**\n",
    "\n",
    "- Nombre: Jeison Mejia.\n",
    "- Nombre: Camilo Tobar.\n",
    "\n",
    "Entrenar una red neuronal con el fin de detectar los dígitos de MNIST y comparar sus resultados contra el algoritmo determinístico y el modelo de machine learning kmeans.\n",
    "\n",
    "Evaluar los resultados contra dos medidas de evaluación (accuracy y tiempo de entramiento). Se recomienda realizar el hold-out con un 80% para entrenamiento y un conjunto de testeo del 20%."
   ]
  },
  {
   "cell_type": "markdown",
   "metadata": {},
   "source": [
    "### Modelo deep learning, Tensorflow (best accuracy):"
   ]
  },
  {
   "cell_type": "code",
   "execution_count": 2,
   "metadata": {},
   "outputs": [
    {
     "name": "stdout",
     "output_type": "stream",
     "text": [
      "WARNING:tensorflow:From <ipython-input-2-5172c887e53b>:6: read_data_sets (from tensorflow.contrib.learn.python.learn.datasets.mnist) is deprecated and will be removed in a future version.\n",
      "Instructions for updating:\n",
      "Please use alternatives such as official/mnist/dataset.py from tensorflow/models.\n",
      "WARNING:tensorflow:From C:\\ProgramData\\Anaconda3\\lib\\site-packages\\tensorflow\\contrib\\learn\\python\\learn\\datasets\\mnist.py:260: maybe_download (from tensorflow.contrib.learn.python.learn.datasets.base) is deprecated and will be removed in a future version.\n",
      "Instructions for updating:\n",
      "Please write your own downloading logic.\n",
      "WARNING:tensorflow:From C:\\ProgramData\\Anaconda3\\lib\\site-packages\\tensorflow\\contrib\\learn\\python\\learn\\datasets\\mnist.py:262: extract_images (from tensorflow.contrib.learn.python.learn.datasets.mnist) is deprecated and will be removed in a future version.\n",
      "Instructions for updating:\n",
      "Please use tf.data to implement this functionality.\n",
      "Extracting MNIST_data/train-images-idx3-ubyte.gz\n",
      "WARNING:tensorflow:From C:\\ProgramData\\Anaconda3\\lib\\site-packages\\tensorflow\\contrib\\learn\\python\\learn\\datasets\\mnist.py:267: extract_labels (from tensorflow.contrib.learn.python.learn.datasets.mnist) is deprecated and will be removed in a future version.\n",
      "Instructions for updating:\n",
      "Please use tf.data to implement this functionality.\n",
      "Extracting MNIST_data/train-labels-idx1-ubyte.gz\n",
      "WARNING:tensorflow:From C:\\ProgramData\\Anaconda3\\lib\\site-packages\\tensorflow\\contrib\\learn\\python\\learn\\datasets\\mnist.py:110: dense_to_one_hot (from tensorflow.contrib.learn.python.learn.datasets.mnist) is deprecated and will be removed in a future version.\n",
      "Instructions for updating:\n",
      "Please use tf.one_hot on tensors.\n",
      "Extracting MNIST_data/t10k-images-idx3-ubyte.gz\n",
      "Extracting MNIST_data/t10k-labels-idx1-ubyte.gz\n",
      "WARNING:tensorflow:From C:\\ProgramData\\Anaconda3\\lib\\site-packages\\tensorflow\\contrib\\learn\\python\\learn\\datasets\\mnist.py:290: DataSet.__init__ (from tensorflow.contrib.learn.python.learn.datasets.mnist) is deprecated and will be removed in a future version.\n",
      "Instructions for updating:\n",
      "Please use alternatives such as official/mnist/dataset.py from tensorflow/models.\n"
     ]
    }
   ],
   "source": [
    "import tensorflow as tf\n",
    "from time import time\n",
    "from tensorflow.examples.tutorials.mnist import input_data\n",
    "\n",
    "# Read data\n",
    "mnist = input_data.read_data_sets(\"MNIST_data/\", one_hot=True)"
   ]
  },
  {
   "cell_type": "code",
   "execution_count": 3,
   "metadata": {},
   "outputs": [],
   "source": [
    "def layer(input, weigth_shape, bias_shape):\n",
    "    w_init = tf.random_normal_initializer(stddev= (2.0/weigth_shape[0]) ** 0.5)\n",
    "    bias_init = tf.constant_initializer(value=0)\n",
    "    W = tf.get_variable(\"W\", weigth_shape, initializer = w_init)\n",
    "    b = tf.get_variable(\"b\", bias_shape, initializer = bias_init)\n",
    "    return tf.nn.relu(tf.matmul(input, W) + b)"
   ]
  },
  {
   "cell_type": "code",
   "execution_count": 4,
   "metadata": {},
   "outputs": [],
   "source": [
    "def inference(x):     \n",
    "    with tf.variable_scope(\"hidden_1\"):\n",
    "        hidden_1 = layer(x , [784, 256], [256])\n",
    "    with tf.variable_scope(\"hidden_2\"):\n",
    "        hidden_2 = layer(hidden_1, [256, 256], [256])\n",
    "    with tf.variable_scope(\"output\"):\n",
    "        output = layer(hidden_2, [256, 10], [10])\n",
    "    return output"
   ]
  },
  {
   "cell_type": "code",
   "execution_count": 5,
   "metadata": {},
   "outputs": [],
   "source": [
    "def loss(output, y):\n",
    "    xentropy = tf.nn.softmax_cross_entropy_with_logits_v2(logits=output, labels=y)\n",
    "    loss = tf.reduce_mean(xentropy)\n",
    "    return loss"
   ]
  },
  {
   "cell_type": "code",
   "execution_count": 6,
   "metadata": {},
   "outputs": [],
   "source": [
    "def evaluate(output, y):\n",
    "    correct_prediction = tf.equal(tf.argmax(output, 1), tf.argmax(y, 1))\n",
    "    accuracy = tf.reduce_mean(tf.cast(correct_prediction, tf.float32))\n",
    "    tf.summary.scalar(\"validation\", accuracy)\n",
    "    return accuracy"
   ]
  },
  {
   "cell_type": "code",
   "execution_count": 7,
   "metadata": {},
   "outputs": [],
   "source": [
    "def training(cost, global_step):\n",
    "    tf.summary.scalar(\"cost\", cost)\n",
    "    optimizer = tf.train.GradientDescentOptimizer(learning_rate)\n",
    "    train_op = optimizer.minimize(cost, global_step=global_step)\n",
    "    return train_op"
   ]
  },
  {
   "cell_type": "code",
   "execution_count": 19,
   "metadata": {},
   "outputs": [
    {
     "name": "stdout",
     "output_type": "stream",
     "text": [
      "Validation Error: 0.21060001850128174\n",
      "Validation Error: 0.06040000915527344\n",
      "Validation Error: 0.045400023460388184\n",
      "Validation Error: 0.03939998149871826\n",
      "Validation Error: 0.03320002555847168\n",
      "Validation Error: 0.02920001745223999\n",
      "Validation Error: 0.028400003910064697\n",
      "Validation Error: 0.026600003242492676\n",
      "Validation Error: 0.025600016117095947\n",
      "Validation Error: 0.024800002574920654\n",
      "Validation Error: 0.02319997549057007\n",
      "Validation Error: 0.023599982261657715\n",
      "Validation Error: 0.022800028324127197\n",
      "Validation Error: 0.022000014781951904\n",
      "Validation Error: 0.021799981594085693\n",
      "Validation Error: 0.022000014781951904\n",
      "Validation Error: 0.021799981594085693\n",
      "Validation Error: 0.020799994468688965\n",
      "Validation Error: 0.02060002088546753\n",
      "Validation Error: 0.020200014114379883\n",
      "Validation Error: 0.019599974155426025\n",
      "Validation Error: 0.02039998769760132\n",
      "Validation Error: 0.019599974155426025\n",
      "Validation Error: 0.019599974155426025\n",
      "Validation Error: 0.018999993801116943\n",
      "Validation Error: 0.01940000057220459\n",
      "Validation Error: 0.019599974155426025\n",
      "Validation Error: 0.019599974155426025\n",
      "Validation Error: 0.018999993801116943\n",
      "Validation Error: 0.018800020217895508\n",
      "Validation Error: 0.018800020217895508\n",
      "Validation Error: 0.018599987030029297\n",
      "Validation Error: 0.019200026988983154\n",
      "Validation Error: 0.018800020217895508\n",
      "Validation Error: 0.01840001344680786\n",
      "Validation Error: 0.019200026988983154\n",
      "Validation Error: 0.018599987030029297\n",
      "Validation Error: 0.01819998025894165\n",
      "Validation Error: 0.018800020217895508\n",
      "Validation Error: 0.018800020217895508\n",
      "Validation Error: 0.01819998025894165\n",
      "Validation Error: 0.01840001344680786\n",
      "Validation Error: 0.018000006675720215\n",
      "Validation Error: 0.01819998025894165\n",
      "Validation Error: 0.01819998025894165\n",
      "Validation Error: 0.01819998025894165\n",
      "Validation Error: 0.01819998025894165\n",
      "Validation Error: 0.018599987030029297\n",
      "Validation Error: 0.01819998025894165\n",
      "Validation Error: 0.01819998025894165\n",
      "Validation Error: 0.01840001344680786\n",
      "Validation Error: 0.01819998025894165\n",
      "Validation Error: 0.01819998025894165\n",
      "Validation Error: 0.01819998025894165\n",
      "Validation Error: 0.018599987030029297\n",
      "Validation Error: 0.01819998025894165\n",
      "Validation Error: 0.018599987030029297\n",
      "Validation Error: 0.01759999990463257\n",
      "Validation Error: 0.01840001344680786\n",
      "Validation Error: 0.01840001344680786\n",
      "Optimization Finished!\n",
      "Test Accuracy: 0.9799\n",
      "Trainning time: 0.328202486038208\n"
     ]
    }
   ],
   "source": [
    "# Parameters\n",
    "\n",
    "learning_rate = 0.01\n",
    "training_epochs = 300\n",
    "batch_size = 100\n",
    "display_step = 5\n",
    "train_losses, test_losses = [], []\n",
    "\n",
    "\n",
    "with tf.Graph().as_default():\n",
    "    # mnist data image of shape 28*28=784\n",
    "    x = tf.placeholder(tf.float32, [None, 784])    \n",
    "    # 0-9 digits recognition => 10 classes\n",
    "    y = tf.placeholder(tf.float32, [None, 10])    \n",
    "    output = inference(x)    \n",
    "    cost = loss(output, y) \n",
    "    \n",
    "    global_step = tf.Variable(0, name='global_step', trainable=False)\n",
    "    init_time = time()\n",
    "    train_op = training(cost, global_step)\n",
    "    deep_learning_time = time() - init_time\n",
    "    eval_op = evaluate(output, y)\n",
    "    \n",
    "    summary_op = tf.summary.merge_all()    \n",
    "    saver = tf.train.Saver()\n",
    "    \n",
    "    sess = tf.Session()    \n",
    "    summary_writer = tf.summary.FileWriter(\"mnist_logs/\", graph=sess.graph)\n",
    "    \n",
    "    init_op = tf.global_variables_initializer()    \n",
    "    sess.run(init_op)\n",
    "    \n",
    "    # Training cycle\n",
    "    for epoch in range(training_epochs):\n",
    "        avg_cost = 0.\n",
    "        total_batch = int(mnist.train.num_examples/batch_size)\n",
    "        # Loop over all batches\n",
    "        for i in range(total_batch):\n",
    "            mbatch_x, mbatch_y = mnist.train.next_batch(batch_size)\n",
    "            # Fit training using batch data\n",
    "            feed_dict = {x : mbatch_x, y : mbatch_y}\n",
    "            sess.run(train_op, feed_dict=feed_dict)\n",
    "            # Compute average loss\n",
    "            minibatch_cost = sess.run(cost, feed_dict=feed_dict)\n",
    "            avg_cost += minibatch_cost/total_batch\n",
    "            \n",
    "        # Display logs per epoch step\n",
    "        if epoch % display_step == 0:\n",
    "            val_feed_dict = {\n",
    "                x : mnist.validation.images,\n",
    "                y : mnist.validation.labels\n",
    "            }\n",
    "            accuracy = sess.run(eval_op, feed_dict=val_feed_dict)\n",
    "            print (\"Validation Error:\", (1 - accuracy))\n",
    "            train_losses.append(1 - accuracy)\n",
    "            summary_str = sess.run(summary_op, feed_dict=feed_dict)\n",
    "            summary_writer.add_summary(summary_str, sess.run(global_step))\n",
    "            \n",
    "            saver.save(sess, \"mnist_logs/model-checkpoint\", global_step=global_step)\n",
    "            \n",
    "    print(\"Optimization Finished!\")\n",
    "    \n",
    "    test_feed_dict = {\n",
    "        x : mnist.test.images,\n",
    "        y : mnist.test.labels\n",
    "    }\n",
    "    accuracy = sess.run(eval_op, feed_dict=test_feed_dict)\n",
    "    #writer = tf.summary.FileWriter(\"logistic_logs3/\", graph=sess.graph)\n",
    "    #writer.add_graph(tf.get_default_graph())\n",
    "    print(\"Test Accuracy:\", accuracy)\n",
    "    print(\"Trainning time: {}\".format(deep_learning_time))"
   ]
  },
  {
   "cell_type": "markdown",
   "metadata": {},
   "source": [
    "# Comparación contra el mejor modelo KMeans "
   ]
  },
  {
   "cell_type": "markdown",
   "metadata": {},
   "source": [
    "### Modelo KMeans:"
   ]
  },
  {
   "cell_type": "code",
   "execution_count": 18,
   "metadata": {},
   "outputs": [
    {
     "name": "stdout",
     "output_type": "stream",
     "text": [
      "Reales: [0 1 2 3 4 5 6 7 8 9 0 1 2 3 4 5 6 7 8 9 0 1 2 3 4]\n",
      "Estimados: [0 1 2 3 4 9 6 7 8 9 0 1 2 3 4 5 6 7 8 9 0 1 2 3 4]\n"
     ]
    },
    {
     "data": {
      "text/plain": [
       "<Figure size 432x288 with 0 Axes>"
      ]
     },
     "metadata": {},
     "output_type": "display_data"
    },
    {
     "data": {
      "image/png": "[encoded data removed]",
      "text/plain": [
       "<Figure size 288x288 with 15 Axes>"
      ]
     },
     "metadata": {
      "needs_background": "light"
     },
     "output_type": "display_data"
    },
    {
     "name": "stdout",
     "output_type": "stream",
     "text": [
      "Model accuracy: 0.9905397885364496\n",
      "Trainning time: 0.01563286781311035\n"
     ]
    }
   ],
   "source": [
    "from sklearn.neighbors import KNeighborsClassifier\n",
    "from sklearn.datasets import load_digits\n",
    "import pylab as pl\n",
    "import sklearn\n",
    "import sklearn.metrics as metrics\n",
    "import pylab as plt\n",
    "\n",
    "digits = load_digits()\n",
    "pl.gray()\n",
    "pl.matshow(digits.images[25]) # Imprimir una imagen dada\n",
    "numImagenes = len(digits.images) # Numero de imagenes, len es un método que provee el tamaño del arreglo\n",
    "\n",
    "y = digits.target # el método nos provee las etiquetas de las imágenes en un arreglo\n",
    "\n",
    "X = digits.images.reshape((numImagenes, -1)) # se reducen las dimensiones\n",
    "\n",
    "knn = KNeighborsClassifier()\n",
    "init_time_knn = time()\n",
    "fit = knn.fit(X, y)\n",
    "knn_final_time = time() - init_time_knn\n",
    "\n",
    "#Se pueden evaluar las clases estimadas por el modelo vs. las clases reales\n",
    "\n",
    "y_estimado = fit.predict(X)\n",
    "print(\"Reales: {}\".format(y[0:25]))\n",
    "print(\"Estimados: {}\".format(y_estimado[0:25]))\n",
    "\n",
    "#Más visualmente dónde se equivoca el modelo:\n",
    "\n",
    "images_and_predictions = list(zip(digits.images, y_estimado))\n",
    "for index, (image, prediction) in enumerate(images_and_predictions[:15]):\n",
    "    plt.subplot(3,5, index+1) #se crean los placeholders de 3x5 filasXcolumnas\n",
    "    plt.axis('off')  #se quitan los ejes\n",
    "    plt.imshow(image, cmap=plt.cm.gray_r)\n",
    "    plt.title('Pred: %i' % prediction)\n",
    "plt.show()\n",
    "\n",
    "#Ahora los indicadores globales del modelo:\n",
    "\n",
    "print(\"Model accuracy: {}\".format(metrics.accuracy_score(y, y_estimado)))\n",
    "print(\"Trainning time: {}\".format(knn_final_time))"
   ]
  },
  {
   "cell_type": "markdown",
   "metadata": {},
   "source": [
    "#### Análisis:\n",
    "Hay dos aspectos importantes que debemos mirar en un principio para comparar los resultados arrojados por los dos modelos anteriores: tiempo de entrenamiento y precisión.\n",
    "\n",
    "En primer lugar, para el tiempo de entrenamiento vemos que con tensorflow es bastante mayor a comparación de KNN (aunque en realidad en ninguno de los dos es un tiempo muy significativo).\n",
    "\n",
    "En segundo lugar, la precisión también favorece al algoritmo de KNN por encima de la red neuronal, sin embargo, hay algo más a tener en cuenta en este aspecto y es que el algoritmo de KNN fue entrenado con toda la muestra y fue la misma muestra la que luego se usó para los resultados de predicción. Lo anterior no es lo deseado comúnmente cuando se entrenan modelos de machine-learning, pero como la población era tan pequeña, el algoritmo podía incluso alcanzar una precisión de 100% si se intentaba testear con una muestra aún más pequeña a esa población.\n",
    "\n",
    "Así pues, si bien los datos apuntan a una superioridad del modelo de KNN, esto no es necesariamente del todo cierto pues hay factores que seguramente afectaron de manera muy significativa tanto el entrenamiento como el testeo de los modelos (uno de ellos la muestra como ya mencioné) y que no se estan teniendo en cuenta. Lo mejor para asegurar una buena comparación entre modelos sería realizar todo un experimento donde se puedan contrastar bien las variables que afectan el problema y controlar aquellas que no son importantes para el estudio."
   ]
  },
  {
   "cell_type": "markdown",
   "metadata": {},
   "source": [
    "# Comparación contra el resultado del algoritmo deterministico"
   ]
  },
  {
   "cell_type": "markdown",
   "metadata": {},
   "source": [
    "### Modelo determinístico:"
   ]
  },
  {
   "cell_type": "code",
   "execution_count": 20,
   "metadata": {},
   "outputs": [],
   "source": [
    "from sklearn.datasets import load_digits\n",
    "import pylab as pl\n",
    "import sklearn\n",
    "import sklearn.metrics as metrics\n",
    "import pylab as plt"
   ]
  },
  {
   "cell_type": "code",
   "execution_count": 21,
   "metadata": {},
   "outputs": [],
   "source": [
    "MINLR = 90\n",
    "MINUD = 90\n",
    "MAXC = 20\n",
    "digits = load_digits()\n",
    "numImages = len(digits.images)\n",
    "y = digits.target"
   ]
  },
  {
   "cell_type": "code",
   "execution_count": 22,
   "metadata": {},
   "outputs": [],
   "source": [
    "def isFive(image):\n",
    "    #print(image)\n",
    "    sectionA = 0.0\n",
    "    sectionB = 0.0\n",
    "    sectionC = 0.0\n",
    "    sectionD = 0.0\n",
    "    sectionE = 0.0\n",
    "    sectionF = 0.0\n",
    "    \n",
    "    #INCLUDE TO BE A THREE\n",
    "    #SECTION A is from rows 1 to 3, columns 2 to 3.\n",
    "    for i in range(1, 3):\n",
    "        for j in range(2, 3):\n",
    "            sectionA = sectionA + image[i][j]\n",
    "    \n",
    "    #SECTION B is from row 1 and 3, columns 4 to 5 both.\n",
    "    for i in range(1, 3):\n",
    "        if(i != 2):\n",
    "            for j in range(4, 5):\n",
    "                sectionB += image[i][j]\n",
    "            \n",
    "    #SECTION C is from rows 5 to 6, columns 5 to 6, and 4,5.\n",
    "    for i in range(5, 6):\n",
    "        for j in range(5, 6):\n",
    "            sectionC += image[i][j]\n",
    "    sectionC += image[4][5]\n",
    "                \n",
    "    #SECTION D is from rows 6 to 7, columns 3 to 4, and 6,2.\n",
    "    for i in range(6, 7):\n",
    "        for j in range(3, 4):\n",
    "            sectionD += image[i][j]\n",
    "    sectionD += image[6][2]\n",
    "    \n",
    "    \n",
    "    #EXCLUDE TO BE AN EIGHT\n",
    "    #SECTION E is from rows 4 to 5, columns 1 to 2, and 6,1.\n",
    "    for i in range(4, 5):\n",
    "        for j in range(1, 2):\n",
    "            sectionE += image[i][j]\n",
    "    sectionE += image[6][1]\n",
    "    \n",
    "    #SECTION F is from row 2, columns 5 to 6, and 1,6.\n",
    "    for i in range(5, 6):\n",
    "        sectionF += image[2][i]\n",
    "    sectionF += image[1][6]\n",
    "    \n",
    "    three = False\n",
    "    three = (sectionA > 12 and sectionB > 6 and sectionC > 7 and sectionD > 7 and sectionE < 18 and sectionF < 16)\n",
    "    return three"
   ]
  },
  {
   "cell_type": "code",
   "execution_count": 23,
   "metadata": {},
   "outputs": [],
   "source": [
    "def isZero(matriz):\n",
    "    left = 0\n",
    "    rigth = 0\n",
    "    up = 0\n",
    "    center = 0\n",
    "    down = 0\n",
    "    for i in range(0,len(matriz)):\n",
    "        for j in range(0,len(matriz[0])):\n",
    "            if i<= 2:\n",
    "                up+=matriz[i][j]\n",
    "                if j <= 2:\n",
    "                    left+=matriz[i][j]\n",
    "                elif j >= 2:\n",
    "                    rigth+=matriz[i][j]          \n",
    "                else:\n",
    "                    center+=matriz[i][j]\n",
    "            elif i >= len(matriz)-3:\n",
    "                down += matriz[i][j]\n",
    "                if j<= 2:\n",
    "                    left+=matriz[i][j]\n",
    "                elif j>=2:\n",
    "                    rigth+=matriz[i][j]\n",
    "                else:\n",
    "                    center+=matriz[i][j]\n",
    "            else:\n",
    "                if j<=2:\n",
    "                    left+=matriz[i][j]\n",
    "                elif j>=2:\n",
    "                    rigth+=matriz[i][j]\n",
    "                else:\n",
    "                    center+=matriz[i][j]\n",
    "    isZero=False\n",
    "    if left>=MINLR and rigth>=MINLR and center<=MAXC and up>=MINUD and down>=MINUD:\n",
    "        isZero=True\n",
    "    return isZero"
   ]
  },
  {
   "cell_type": "code",
   "execution_count": 24,
   "metadata": {},
   "outputs": [
    {
     "name": "stdout",
     "output_type": "stream",
     "text": [
      "Model accuracy for number 5: 0.2967032967032967\n",
      "Model accuracy for number 0: 0.8370786516853933\n"
     ]
    }
   ],
   "source": [
    "matrizCinco = []\n",
    "labels = []\n",
    "counter = 0\n",
    "\n",
    "for i in range(0, len(y)):\n",
    "    if 5 == y[i]:\n",
    "        matrizCinco.append(digits.images[i])\n",
    "        labels.append(y[i])\n",
    "\n",
    "for mat in matrizCinco:\n",
    "    if isFive(mat):\n",
    "        counter= counter + 1\n",
    "        \n",
    "accuracy_five = (counter*1.0/len(matrizCinco)*1.0)\n",
    "\n",
    "matrizCeros = []\n",
    "etiquetas = []\n",
    "contador = 0\n",
    "\n",
    "for i in range(0, len(y)):\n",
    "    \n",
    "    if 0 == y[i]:\n",
    "        matrizCeros.append(digits.images[i])\n",
    "        etiquetas.append(y[i])\n",
    "        \n",
    "for mat in matrizCeros:\n",
    "    if isZero(mat):\n",
    "        contador= contador + 1\n",
    "\n",
    "accuracy_zero = (contador*1.0/len(matrizCeros)*1.0)\n",
    "\n",
    "print(\"Model accuracy for number 5: {}\".format(accuracy_five))\n",
    "print(\"Model accuracy for number 0: {}\".format(accuracy_zero))"
   ]
  },
  {
   "cell_type": "markdown",
   "metadata": {},
   "source": [
    "#### Análisis:\n",
    "A partir de los datos anteriores, hay algo que se hace evidente:\n",
    "El modelo determinístico es claramente peor que los demás modelos. Aún así, hay algo que cabe mencionar y es que la precisión para el número cinco es mucho menor que para el número cero y esto es debido a que el patron a identificar es mucho más simple en el segundo caso, aún así, el algoritmo implementado tiene una falla muy grande y es que identifica un patrón muy simple para verificar si el número es cero, patron que puede confundir otros número con cero muy fácilmente (el ocho por ejemplo) dependiendo de qué tan \"ancho\" esté el número en la matriz, o bien, qué tanto se acople a esta forma que considera \"carácterística\" del número (en un grado indeseablemente pequeño). "
   ]
  },
  {
   "cell_type": "code",
   "execution_count": null,
   "metadata": {},
   "outputs": [],
   "source": []
  }
 ],
 "metadata": {
  "kernelspec": {
   "display_name": "Python 3",
   "language": "python",
   "name": "python3"
  },
  "language_info": {
   "codemirror_mode": {
    "name": "ipython",
    "version": 3
   },
   "file_extension": ".py",
   "mimetype": "text/x-python",
   "name": "python",
   "nbconvert_exporter": "python",
   "pygments_lexer": "ipython3",
   "version": "3.7.1"
  }
 },
 "nbformat": 4,
 "nbformat_minor": 2
}
